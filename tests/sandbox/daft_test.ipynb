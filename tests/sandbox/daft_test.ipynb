{
 "cells": [
  {
   "cell_type": "code",
   "execution_count": 1,
   "metadata": {},
   "outputs": [],
   "source": [
    "%load_ext autoreload\n",
    "%autoreload 2"
   ]
  },
  {
   "cell_type": "code",
   "execution_count": 1,
   "metadata": {},
   "outputs": [],
   "source": [
    "import daft\n",
    "from daft import DataType as dt"
   ]
  },
  {
   "cell_type": "code",
   "execution_count": 2,
   "metadata": {},
   "outputs": [
    {
     "data": {
      "text/html": [
       "<div>\n",
       "<table class=\"dataframe\">\n",
       "<thead><tr><th style=\"text-wrap: nowrap; max-width:192px; overflow:auto\">integers<br />Int64</th><th style=\"text-wrap: nowrap; max-width:192px; overflow:auto\">floats<br />Float64</th><th style=\"text-wrap: nowrap; max-width:192px; overflow:auto\">bools<br />Boolean</th><th style=\"text-wrap: nowrap; max-width:192px; overflow:auto\">strings<br />Utf8</th><th style=\"text-wrap: nowrap; max-width:192px; overflow:auto\">bytes<br />Binary</th><th style=\"text-wrap: nowrap; max-width:192px; overflow:auto\">dates<br />Date</th><th style=\"text-wrap: nowrap; max-width:192px; overflow:auto\">lists<br />List[Int64]</th><th style=\"text-wrap: nowrap; max-width:192px; overflow:auto\">nulls<br />Null</th></tr></thead>\n",
       "<tbody>\n",
       "<tr><td><div style=\"text-align:left; max-width:192px; max-height:64px; overflow:auto\">1</div></td><td><div style=\"text-align:left; max-width:192px; max-height:64px; overflow:auto\">1.5</div></td><td><div style=\"text-align:left; max-width:192px; max-height:64px; overflow:auto\">true</div></td><td><div style=\"text-align:left; max-width:192px; max-height:64px; overflow:auto\">a</div></td><td><div style=\"text-align:left; max-width:192px; max-height:64px; overflow:auto\">b\"a\"</div></td><td><div style=\"text-align:left; max-width:192px; max-height:64px; overflow:auto\">1994-01-01</div></td><td><div style=\"text-align:left; max-width:192px; max-height:64px; overflow:auto\">[1, 1, 1]</div></td><td><div style=\"text-align:left; max-width:192px; max-height:64px; overflow:auto\">None</div></td></tr>\n",
       "<tr><td><div style=\"text-align:left; max-width:192px; max-height:64px; overflow:auto\">2</div></td><td><div style=\"text-align:left; max-width:192px; max-height:64px; overflow:auto\">2.5</div></td><td><div style=\"text-align:left; max-width:192px; max-height:64px; overflow:auto\">true</div></td><td><div style=\"text-align:left; max-width:192px; max-height:64px; overflow:auto\">b</div></td><td><div style=\"text-align:left; max-width:192px; max-height:64px; overflow:auto\">b\"b\"</div></td><td><div style=\"text-align:left; max-width:192px; max-height:64px; overflow:auto\">1994-01-02</div></td><td><div style=\"text-align:left; max-width:192px; max-height:64px; overflow:auto\">[2, 2, 2]</div></td><td><div style=\"text-align:left; max-width:192px; max-height:64px; overflow:auto\">None</div></td></tr>\n",
       "<tr><td><div style=\"text-align:left; max-width:192px; max-height:64px; overflow:auto\">3</div></td><td><div style=\"text-align:left; max-width:192px; max-height:64px; overflow:auto\">3.5</div></td><td><div style=\"text-align:left; max-width:192px; max-height:64px; overflow:auto\">false</div></td><td><div style=\"text-align:left; max-width:192px; max-height:64px; overflow:auto\">c</div></td><td><div style=\"text-align:left; max-width:192px; max-height:64px; overflow:auto\">b\"c\"</div></td><td><div style=\"text-align:left; max-width:192px; max-height:64px; overflow:auto\">1994-01-03</div></td><td><div style=\"text-align:left; max-width:192px; max-height:64px; overflow:auto\">[3, 3, 3]</div></td><td><div style=\"text-align:left; max-width:192px; max-height:64px; overflow:auto\">None</div></td></tr>\n",
       "<tr><td><div style=\"text-align:left; max-width:192px; max-height:64px; overflow:auto\">4</div></td><td><div style=\"text-align:left; max-width:192px; max-height:64px; overflow:auto\">4.5</div></td><td><div style=\"text-align:left; max-width:192px; max-height:64px; overflow:auto\">false</div></td><td><div style=\"text-align:left; max-width:192px; max-height:64px; overflow:auto\">d</div></td><td><div style=\"text-align:left; max-width:192px; max-height:64px; overflow:auto\">b\"d\"</div></td><td><div style=\"text-align:left; max-width:192px; max-height:64px; overflow:auto\">1994-01-04</div></td><td><div style=\"text-align:left; max-width:192px; max-height:64px; overflow:auto\">[4, 4, 4]</div></td><td><div style=\"text-align:left; max-width:192px; max-height:64px; overflow:auto\">None</div></td></tr>\n",
       "</tbody>\n",
       "</table>\n",
       "<small>(Showing first 4 of 4 rows)</small>\n",
       "</div>"
      ],
      "text/plain": [
       "╭──────────┬─────────┬─────────┬────────────┬────────────┬─────────────┬───────╮\n",
       "│ integers ┆ floats  ┆ bools   ┆      …     ┆ dates      ┆ lists       ┆ nulls │\n",
       "│ ---      ┆ ---     ┆ ---     ┆            ┆ ---        ┆ ---         ┆ ---   │\n",
       "│ Int64    ┆ Float64 ┆ Boolean ┆ (2 hidden) ┆ Date       ┆ List[Int64] ┆ Null  │\n",
       "╞══════════╪═════════╪═════════╪════════════╪════════════╪═════════════╪═══════╡\n",
       "│ 1        ┆ 1.5     ┆ true    ┆ …          ┆ 1994-01-01 ┆ [1, 1, 1]   ┆ None  │\n",
       "├╌╌╌╌╌╌╌╌╌╌┼╌╌╌╌╌╌╌╌╌┼╌╌╌╌╌╌╌╌╌┼╌╌╌╌╌╌╌╌╌╌╌╌┼╌╌╌╌╌╌╌╌╌╌╌╌┼╌╌╌╌╌╌╌╌╌╌╌╌╌┼╌╌╌╌╌╌╌┤\n",
       "│ 2        ┆ 2.5     ┆ true    ┆ …          ┆ 1994-01-02 ┆ [2, 2, 2]   ┆ None  │\n",
       "├╌╌╌╌╌╌╌╌╌╌┼╌╌╌╌╌╌╌╌╌┼╌╌╌╌╌╌╌╌╌┼╌╌╌╌╌╌╌╌╌╌╌╌┼╌╌╌╌╌╌╌╌╌╌╌╌┼╌╌╌╌╌╌╌╌╌╌╌╌╌┼╌╌╌╌╌╌╌┤\n",
       "│ 3        ┆ 3.5     ┆ false   ┆ …          ┆ 1994-01-03 ┆ [3, 3, 3]   ┆ None  │\n",
       "├╌╌╌╌╌╌╌╌╌╌┼╌╌╌╌╌╌╌╌╌┼╌╌╌╌╌╌╌╌╌┼╌╌╌╌╌╌╌╌╌╌╌╌┼╌╌╌╌╌╌╌╌╌╌╌╌┼╌╌╌╌╌╌╌╌╌╌╌╌╌┼╌╌╌╌╌╌╌┤\n",
       "│ 4        ┆ 4.5     ┆ false   ┆ …          ┆ 1994-01-04 ┆ [4, 4, 4]   ┆ None  │\n",
       "╰──────────┴─────────┴─────────┴────────────┴────────────┴─────────────┴───────╯\n",
       "\n",
       "(Showing first 4 of 4 rows)"
      ]
     },
     "execution_count": 2,
     "metadata": {},
     "output_type": "execute_result"
    }
   ],
   "source": [
    "import datetime\n",
    "\n",
    "df = daft.from_pydict({\n",
    "    \"integers\": [1, 2, 3, 4],\n",
    "    \"floats\": [1.5, 2.5, 3.5, 4.5],\n",
    "    \"bools\": [True, True, False, False],\n",
    "    \"strings\": [\"a\", \"b\", \"c\", \"d\"],\n",
    "    \"bytes\": [b\"a\", b\"b\", b\"c\", b\"d\"],\n",
    "    \"dates\": [datetime.date(1994, 1, 1), datetime.date(1994, 1, 2), datetime.date(1994, 1, 3), datetime.date(1994, 1, 4)],\n",
    "    \"lists\": [[1, 1, 1], [2, 2, 2], [3, 3, 3], [4, 4, 4]],\n",
    "    \"nulls\": [None, None, None, None],\n",
    "})\n",
    "df"
   ]
  },
  {
   "cell_type": "code",
   "execution_count": 6,
   "metadata": {},
   "outputs": [
    {
     "data": {
      "text/html": [
       "<div>\n",
       "<table class=\"dataframe\">\n",
       "<thead><tr><th style=\"text-wrap: nowrap; max-width:192px; overflow:auto\">integers<br />Int64</th><th style=\"text-wrap: nowrap; max-width:192px; overflow:auto\">floats<br />Float64</th><th style=\"text-wrap: nowrap; max-width:192px; overflow:auto\">bools<br />Boolean</th><th style=\"text-wrap: nowrap; max-width:192px; overflow:auto\">strings<br />Utf8</th><th style=\"text-wrap: nowrap; max-width:192px; overflow:auto\">bytes<br />Binary</th><th style=\"text-wrap: nowrap; max-width:192px; overflow:auto\">dates<br />Date</th><th style=\"text-wrap: nowrap; max-width:192px; overflow:auto\">lists<br />List[Int64]</th><th style=\"text-wrap: nowrap; max-width:192px; overflow:auto\">nulls<br />Null</th></tr></thead>\n",
       "</table>\n",
       "<small>(No data to display: Dataframe not materialized)</small>\n",
       "</div>"
      ],
      "text/plain": [
       "╭──────────┬─────────┬─────────┬────────────┬───────┬─────────────┬───────╮\n",
       "│ integers ┆ floats  ┆ bools   ┆      …     ┆ dates ┆ lists       ┆ nulls │\n",
       "│ ---      ┆ ---     ┆ ---     ┆            ┆ ---   ┆ ---         ┆ ---   │\n",
       "│ Int64    ┆ Float64 ┆ Boolean ┆ (2 hidden) ┆ Date  ┆ List[Int64] ┆ Null  │\n",
       "╰──────────┴─────────┴─────────┴────────────┴───────┴─────────────┴───────╯\n",
       "\n",
       "(No data to display: Dataframe not materialized)"
      ]
     },
     "execution_count": 6,
     "metadata": {},
     "output_type": "execute_result"
    }
   ],
   "source": [
    "df.select(\"integers\", \"floats\", \"bools\", \"strings\", \"bytes\", \"dates\", \"lists\", \"nulls\")"
   ]
  },
  {
   "cell_type": "code",
   "execution_count": null,
   "metadata": {},
   "outputs": [],
   "source": []
  },
  {
   "cell_type": "code",
   "execution_count": null,
   "metadata": {},
   "outputs": [],
   "source": []
  },
  {
   "cell_type": "code",
   "execution_count": null,
   "metadata": {},
   "outputs": [],
   "source": []
  },
  {
   "cell_type": "code",
   "execution_count": null,
   "metadata": {},
   "outputs": [],
   "source": []
  },
  {
   "cell_type": "code",
   "execution_count": null,
   "metadata": {},
   "outputs": [],
   "source": []
  }
 ],
 "metadata": {
  "kernelspec": {
   "display_name": "data",
   "language": "python",
   "name": "python3"
  },
  "language_info": {
   "codemirror_mode": {
    "name": "ipython",
    "version": 3
   },
   "file_extension": ".py",
   "mimetype": "text/x-python",
   "name": "python",
   "nbconvert_exporter": "python",
   "pygments_lexer": "ipython3",
   "version": "3.9.18"
  }
 },
 "nbformat": 4,
 "nbformat_minor": 2
}
